{
 "cells": [
  {
   "cell_type": "code",
   "execution_count": null,
   "metadata": {},
   "outputs": [],
   "source": [
    "import torch\n",
    "import matplotlib.pyplot as plt\n",
    "import torchvision\n",
    "import torch.nn as nn\n",
    "import torch.nn.functional as F\n",
    "import torch.optim as optim\n",
    "from statistics import mean\n",
    "from tqdm import tqdm\n",
    "from dataloader import *\n",
    "from model import *\n",
    "\n",
    "device = torch.device(\"cuda\" if torch.cuda.is_available() else \"cpu\")\n",
    "print(device)"
   ]
  },
  {
   "cell_type": "code",
   "execution_count": null,
   "metadata": {},
   "outputs": [],
   "source": [
    "# Batch size and noise strength\n",
    "batch_size = 500\n",
    "noise_lambda = 64"
   ]
  },
  {
   "cell_type": "code",
   "execution_count": null,
   "metadata": {},
   "outputs": [],
   "source": [
    "train_loader, test_loader = data_prep(noise_lambda, batch_size_train=batch_size, batch_size_test=batch_size)"
   ]
  },
  {
   "cell_type": "code",
   "execution_count": null,
   "metadata": {},
   "outputs": [],
   "source": [
    "# Data visualization\n",
    "batch_idx, (example_data, example_targets) = next(enumerate(train_loader))"
   ]
  },
  {
   "cell_type": "code",
   "execution_count": null,
   "metadata": {},
   "outputs": [],
   "source": [
    "fig = plt.figure(figsize=(5, 8))\n",
    "for i in range(0,6,2):\n",
    "  plt.subplot(3,2,i+1)\n",
    "  if i == 0:\n",
    "    plt.title(\"Augmented data\")\n",
    "  plt.imshow(example_data[i], cmap='gray', interpolation='none')\n",
    "  plt.xticks([])\n",
    "  plt.yticks([])\n",
    "  plt.subplot(3,2,i+2)\n",
    "  if i == 0:\n",
    "    plt.title(\"Target data\")\n",
    "  plt.imshow(example_targets[i], cmap='gray', interpolation='none')\n",
    "  plt.xticks([])\n",
    "  plt.yticks([])"
   ]
  },
  {
   "cell_type": "code",
   "execution_count": null,
   "metadata": {},
   "outputs": [],
   "source": [
    "model = CONV().to(device)"
   ]
  },
  {
   "cell_type": "code",
   "execution_count": null,
   "metadata": {},
   "outputs": [],
   "source": [
    "loss_module = nn.MSELoss()\n",
    "optimizer = optim.Adam(model.parameters(), lr=0.000001)"
   ]
  },
  {
   "cell_type": "code",
   "execution_count": null,
   "metadata": {},
   "outputs": [],
   "source": [
    "train_losses = []\n",
    "num_epochs = 25\n",
    "\n",
    "model.train()\n",
    "for i in tqdm(range(num_epochs), disable=False, desc='Training'):\n",
    "    for x, y in train_loader:\n",
    "        x = x.reshape(-1, 1, 28, 28).to(device)\n",
    "        y = y.reshape(-1, 28*28).to(device)\n",
    "        optimizer.zero_grad()\n",
    "        preds = model(x)\n",
    "        loss = loss_module(preds, y)\n",
    "        loss.backward()\n",
    "        optimizer.step()\n",
    "    # print(f'Epoch: [{i+1}/{num_epochs}] \\t Loss: {loss:.2f}')\n",
    "    train_losses.append(loss.item())\n",
    "plt.plot(train_losses)\n",
    "plt.title(\"Przebieg uczenia modelu\")\n",
    "plt.xlabel(\"Epoka\")\n",
    "plt.ylabel(\"wartość funkcji straty\")\n",
    "plt.grid()\n",
    "plt.show()"
   ]
  },
  {
   "cell_type": "code",
   "execution_count": null,
   "metadata": {},
   "outputs": [],
   "source": [
    "# Evaluation\n",
    "preds_list = []\n",
    "out_list = []\n",
    "input_list = []\n",
    "test_losses = []\n",
    "\n",
    "model.eval()\n",
    "for x, y in test_loader:\n",
    "    x = x.reshape(-1, 1, 28, 28).to(device)\n",
    "    y = y.reshape(-1, 28*28).to(device)\n",
    "    optimizer.zero_grad()\n",
    "    preds = model(x)\n",
    "    input_list.append(x)\n",
    "    preds_list.append(preds)\n",
    "    out_list.append(y)\n",
    "    loss = loss_module(preds, y)\n",
    "    test_losses.append(loss.item())\n",
    "print(f'Test loss: {mean(test_losses):.2f}')\n",
    "\n",
    "# Visualize results\n",
    "fig = plt.figure(figsize=(5, 8))\n",
    "for i in range(0,6,2):\n",
    "  plt.subplot(3,2,i+1)\n",
    "  if i == 0:\n",
    "    plt.title('Denoised data')\n",
    "  plt.imshow(preds_list[i].cpu().detach().numpy()[0].reshape(28,28), cmap='gray', interpolation='none')\n",
    "  plt.xticks([])\n",
    "  plt.yticks([])\n",
    "  plt.subplot(3,2,i+2)\n",
    "  if i == 0:\n",
    "    plt.title('Target data')\n",
    "  plt.imshow(out_list[i].cpu().detach().numpy()[0].reshape(28,28), cmap='gray', interpolation='none')\n",
    "  plt.xticks([])\n",
    "  plt.yticks([])"
   ]
  }
 ],
 "metadata": {
  "kernelspec": {
   "display_name": "Python 3",
   "language": "python",
   "name": "python3"
  },
  "language_info": {
   "codemirror_mode": {
    "name": "ipython",
    "version": 3
   },
   "file_extension": ".py",
   "mimetype": "text/x-python",
   "name": "python",
   "nbconvert_exporter": "python",
   "pygments_lexer": "ipython3",
   "version": "3.10.12"
  }
 },
 "nbformat": 4,
 "nbformat_minor": 2
}
